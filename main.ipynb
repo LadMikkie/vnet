{
  "cells": [
    {
      "cell_type": "code",
      "execution_count": null,
      "metadata": {
        "cellView": "form",
        "colab": {
          "base_uri": "https://localhost:8080/"
        },
        "id": "FqlkMTzmH3ne",
        "outputId": "f7c6afbe-5528-4131-eb51-df54d404b66c"
      },
      "outputs": [
      ],
      "source": [
        "#@title Initial setup, run once\n",
        "import numpy as np\n",
        "import torch\n",
        "import torch.nn as nn\n",
        "from torch.nn import functional as F\n",
        "\n",
        "import math\n",
        "from torch.utils.data import Dataset\n",
        "\n",
        "!git clone https://github.com/LadMikkie/vnet.git\n",
        "%cd vnet\n",
        "\n",
        "!wget https://huggingface.co/ricardio/vnet/resolve/main/v-moderu\n",
        "!wget https://huggingface.co/ricardio/vnet/resolve/main/v-datasetto\n",
        "\n",
        "\n",
        "class CharDataset(Dataset):\n",
        "\n",
        "    def __init__(self, data, block_size):\n",
        "        chars = list(set(data))\n",
        "        data_size, vocab_size = len(data), len(chars)\n",
        "        print('data has %d characters, %d unique.' % (data_size, vocab_size))\n",
        "        \n",
        "        self.stoi = { ch:i for i,ch in enumerate(chars) }\n",
        "        self.itos = { i:ch for i,ch in enumerate(chars) }\n",
        "        self.block_size = block_size\n",
        "        self.vocab_size = vocab_size\n",
        "        self.data = data\n",
        "    \n",
        "    def __len__(self):\n",
        "        return math.ceil(len(self.data) / (self.block_size + 1))\n",
        "\n",
        "    def __getitem__(self, idx):\n",
        "        # we're actually going to \"cheat\" and pick a spot in the dataset at random\n",
        "        i = np.random.randint(0, len(self.data) - (self.block_size + 1))\n",
        "        chunk = self.data[i:i+self.block_size+1]\n",
        "        dix = [self.stoi[s] for s in chunk]\n",
        "        x = torch.tensor(dix[:-1], dtype=torch.long)\n",
        "        y = torch.tensor(dix[1:], dtype=torch.long)\n",
        "        return x, y\n",
        "\n",
        "model = torch.load(\"v-moderu\", map_location=\"cuda\")\n",
        "train_dataset = torch.load(\"v-datasetto\")\n"
      ]
    },
    {
      "cell_type": "markdown",
      "metadata": {
        "id": "58L1beEwDIxK"
      },
      "source": [
        "## voreNET"
      ]
    },
    {
      "cell_type": "code",
      "execution_count": 10,
      "metadata": {
        "cellView": "form",
        "colab": {
          "base_uri": "https://localhost:8080/",
          "height": 375
        },
        "id": "Gn04gY_HIoHs",
        "outputId": "b933d44a-3edf-4933-da36-fd26e060f4f0"
      },
      "outputs": [
      ],
      "source": [
        "#@title Enter your request\n",
        "context = \"\" #@param {type:\"string\"}\n",
        "max_length = 512 #@param {type:\"slider\", min:1, max:512, step:1}\n",
        "temperature = 0.8 #@param {type:\"slider\", min:0.01, max:1, step:0.01}\n",
        "top_k = 5 #@param {type:\"slider\", min:1, max:231, step:1}\n",
        "\n",
        "\n",
        "\n",
        "from mingpt.utils import sample\n",
        "\n",
        "x = torch.tensor([train_dataset.stoi[s] for s in context], dtype=torch.long)[None,...].to(\"cuda\")\n",
        "y = sample(model, x, max_length, temperature=temperature, sample=True, top_k=top_k)[0]\n",
        "completion = ''.join([train_dataset.itos[int(i)] for i in y])\n",
        "completion = completion.replace(\"â\", \"'\")\n",
        "completion = completion.replace(\"â\", \"\\n\")\n",
        "completion = completion.replace(\"'\", \"\\\"\")\n",
        "completion = completion.replace(\"'\", \"'\")\n",
        "completion = completion.replace(\"                \", \"\")\n",
        "print(completion)"
      ]
    }
  ],
  "metadata": {
    "accelerator": "GPU",
    "colab": {
      "collapsed_sections": [],
      "machine_shape": "hm",
      "name": "voreNET-GUI",
      "provenance": []
    },
    "gpuClass": "standard",
    "kernelspec": {
      "display_name": "Python 3.9.13 ('base')",
      "language": "python",
      "name": "python3"
    },
    "language_info": {
      "name": "python",
      "version": "3.9.13"
    },
    "vscode": {
      "interpreter": {
        "hash": "e0c4cca4bcb09e695cef1ee57773497f92770cd97aa0dd504b9a6c683eb2da18"
      }
    }
  },
  "nbformat": 4,
  "nbformat_minor": 0
}
